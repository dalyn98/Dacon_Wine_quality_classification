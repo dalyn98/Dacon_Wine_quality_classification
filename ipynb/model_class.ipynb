{
 "cells": [
  {
   "cell_type": "code",
   "execution_count": 26,
   "id": "828a00dd",
   "metadata": {},
   "outputs": [],
   "source": [
    "import pandas as pd\n",
    "import matplotlib.pyplot as plt\n",
    "import seaborn as sns\n",
    "from matplotlib import patches\n",
    "from tqdm import tqdm\n",
    "from sklearn.linear_model import LogisticRegression\n",
    "from collections import Counter\n",
    "from imblearn.over_sampling import ADASYN\n",
    "from imblearn.over_sampling import SMOTE\n",
    "from scipy import stats\n",
    "from sklearn.model_selection import GridSearchCV\n",
    "from sklearn.model_selection import train_test_split\n",
    "from sklearn.model_selection import RepeatedStratifiedKFold, cross_val_score,KFold\n",
    "import numpy as np\n",
    "%matplotlib inline"
   ]
  },
  {
   "cell_type": "code",
   "execution_count": 27,
   "id": "6ac019f0",
   "metadata": {},
   "outputs": [],
   "source": [
    "\n",
    "class Model():\n",
    "    def __init__(self,data,zscore=False,out=False,smote = False,adasyn=False,test=False):\n",
    "        self.df = data\n",
    "        self.data = data\n",
    "        self.word_num()\n",
    "        if zscore==True:\n",
    "            self.df = data.iloc[:,1:-2].apply(stats.zscore)\n",
    "            if test == False:\n",
    "                self.df['quality'] = data['quality']\n",
    "            self.df['id'] = data['id']\n",
    "            self.df['type'] = data['type']\n",
    "        if zscore==True & out ==True:\n",
    "            for i in self.df.iloc[:,:-3].columns:\n",
    "                self.df = self.df[(self.df[i] > -2) & (self.df[i] < 2)]\n",
    "        if test ==False:\n",
    "            self.X = data.drop(['id', 'quality'],axis=1)\n",
    "            self.y = data['quality']\n",
    "        if smote==True:\n",
    "            self.X, self.y = SMOTE(random_state=0).fit_resample(self.X,self.y)\n",
    "        elif adasyn==True:\n",
    "            self.X, self.y = ADASYN(random_state=0).fit_resample(self.X,self.y)\n",
    "        self.X_train,self.X_test,self.y_train,self.y_test = train_test_split(self.X,self.y,\n",
    "                                                                            test_size=0.4,\n",
    "                                                                            random_state=42)\n",
    "    def Logistic(self,linear = 'liblinear'):\n",
    "        model = LogisticRegression(solver = linear)\n",
    "        model.fit(self.X_train,self.y_train)\n",
    "        prediction = model.predict(self.X_test)\n",
    "        score = self.evaluate_model(self.X_test,self.y_test,model)\n",
    "        print(f\"모델의 정확도는 {np.mean(score)}% 입니다\")\n",
    "        self.__init__(self.data)\n",
    "        \n",
    "        return model\n",
    "    def grid_model(self,model_type,param=None):\n",
    "        #model = GridSearchCV(model_type,param,scoring = 'accuracy',cv=3)\n",
    "        model = model_type\n",
    "        model.fit(self.X_train,self.y_train)\n",
    "        prediction = model.predict(self.X_test)\n",
    "        score = self.evaluate_model(self.X_test,self.y_test,model)\n",
    "        self.__init__(self.data)\n",
    "        print(f\"모델의 정확도는 {np.mean(score)}% 입니다\")\n",
    "        return model\n",
    "    def count_plot(self): \n",
    "        counter = Counter(self.y)\n",
    "        for k,v in counter.items():\n",
    "            print('Class=%d, n=%d (%.3f%%)' % (k, v, v / len(y) * 100))\n",
    "        pyplot.bar(counter.keys(), counter.values())\n",
    "        pyplot.show()\n",
    "    def word_num(self):\n",
    "        word_to_num = {'white' : 0, 'red' : 1}\n",
    "        self.df['type'] = self.df['type'].replace(word_to_num)\n",
    "    def evaluate_model(self,X, y, model):\n",
    "        cv = KFold(n_splits=10, shuffle=True)\n",
    "        scores = cross_val_score(model, X, y, scoring='accuracy', cv=cv, n_jobs=-1)\n",
    "        return scores"
   ]
  },
  {
   "cell_type": "code",
   "execution_count": 29,
   "id": "ba4698bc",
   "metadata": {},
   "outputs": [],
   "source": [
    "train_path = '../train/train.csv'\n",
    "test_path = '../test/test.csv'\n",
    "train_df = pd.read_csv(train_path)\n",
    "test_df = pd.read_csv(test_path)\n"
   ]
  },
  {
   "cell_type": "code",
   "execution_count": 20,
   "id": "5adda220",
   "metadata": {
    "scrolled": true
   },
   "outputs": [
    {
     "name": "stdout",
     "output_type": "stream",
     "text": [
      "모델의 정확도는 0.5248800295311924% 입니다\n"
     ]
    }
   ],
   "source": [
    "train_model = Model(train_df,zscore=True,out=True,).Logistic()\n",
    "\n"
   ]
  },
  {
   "cell_type": "code",
   "execution_count": 31,
   "id": "4dea3b5c",
   "metadata": {
    "scrolled": true
   },
   "outputs": [
    {
     "name": "stdout",
     "output_type": "stream",
     "text": [
      "모델의 정확도는 0.6096750111979297% 입니다\n"
     ]
    }
   ],
   "source": [
    "from sklearn.tree import DecisionTreeRegressor\n",
    "regressor = DecisionTreeRegressor()\n",
    "\n",
    "param_grid ={'max_depth':(1,2,3,4,5,6,7,8,9,10)}\n",
    "\n",
    "model = Model(train_df,zscore=True,out=True,smote=True)\n",
    "train_model = model.grid_model(regressor,param_grid)"
   ]
  },
  {
   "cell_type": "code",
   "execution_count": 30,
   "id": "1a3f9544",
   "metadata": {},
   "outputs": [
    {
     "name": "stdout",
     "output_type": "stream",
     "text": [
      "모델의 정확도는 nan% 입니다\n"
     ]
    }
   ],
   "source": [
    "import xgboost as xgb\n",
    "xgbr = xgb.XGBRegressor()\n",
    "model = Model(train_df,zscore=True,out=True,smote=True)\n",
    "train_model = model.grid_model(xgbr,param_grid)"
   ]
  },
  {
   "cell_type": "code",
   "execution_count": 21,
   "id": "11f80562",
   "metadata": {},
   "outputs": [],
   "source": [
    "\n",
    "test = pd.read_csv('../test/test.csv')\n",
    "word_to_num = {\"white\":0, \"red\":1}\n",
    "\n",
    "test['type'] = test['type'].replace(word_to_num)\n",
    "test =  test.apply(stats.zscore)\n",
    "prediction = train_model.predict(test.drop('id', axis=1))\n"
   ]
  },
  {
   "cell_type": "code",
   "execution_count": 182,
   "id": "1e24056d",
   "metadata": {},
   "outputs": [],
   "source": [
    "test =  test.apply(stats.zscore)"
   ]
  },
  {
   "cell_type": "code",
   "execution_count": 190,
   "id": "50bc2f94",
   "metadata": {},
   "outputs": [],
   "source": [
    "prediction = train_model.predict(test.drop('id', axis=1))\n"
   ]
  },
  {
   "cell_type": "code",
   "execution_count": 191,
   "id": "8613bfd4",
   "metadata": {},
   "outputs": [],
   "source": [
    "submission = pd.read_csv('../sample_submission.csv')\n",
    "submission['quality'] = prediction\n",
    "submission.to_csv(\"../submission/logistic.csv\", index=False)"
   ]
  },
  {
   "cell_type": "code",
   "execution_count": null,
   "id": "b6dfdded",
   "metadata": {},
   "outputs": [],
   "source": []
  }
 ],
 "metadata": {
  "kernelspec": {
   "display_name": "Python 3",
   "language": "python",
   "name": "python3"
  },
  "language_info": {
   "codemirror_mode": {
    "name": "ipython",
    "version": 3
   },
   "file_extension": ".py",
   "mimetype": "text/x-python",
   "name": "python",
   "nbconvert_exporter": "python",
   "pygments_lexer": "ipython3",
   "version": "3.8.8"
  }
 },
 "nbformat": 4,
 "nbformat_minor": 5
}
